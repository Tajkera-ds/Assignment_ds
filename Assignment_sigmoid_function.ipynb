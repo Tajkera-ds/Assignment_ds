{
 "cells": [
  {
   "cell_type": "code",
   "execution_count": 2,
   "id": "d458c4de",
   "metadata": {},
   "outputs": [],
   "source": [
    "import math\n",
    "def sigmoid_function(x):\n",
    "    sf= 1/(1+math.exp(-x))\n",
    "    return sf\n"
   ]
  },
  {
   "cell_type": "code",
   "execution_count": 4,
   "id": "643e2457",
   "metadata": {},
   "outputs": [
    {
     "name": "stdout",
     "output_type": "stream",
     "text": [
      "7\n",
      "0.5\n",
      "0.7310585786300049\n",
      "0.8807970779778823\n",
      "0.9525741268224334\n",
      "0.9820137900379085\n",
      "0.9933071490757153\n",
      "0.9975273768433653\n"
     ]
    }
   ],
   "source": [
    "num= int(input())\n",
    "for i in range (num):\n",
    "    print(sigmoid_function(i))"
   ]
  },
  {
   "cell_type": "code",
   "execution_count": null,
   "id": "983d568c",
   "metadata": {},
   "outputs": [],
   "source": []
  }
 ],
 "metadata": {
  "kernelspec": {
   "display_name": "Python 3 (ipykernel)",
   "language": "python",
   "name": "python3"
  },
  "language_info": {
   "codemirror_mode": {
    "name": "ipython",
    "version": 3
   },
   "file_extension": ".py",
   "mimetype": "text/x-python",
   "name": "python",
   "nbconvert_exporter": "python",
   "pygments_lexer": "ipython3",
   "version": "3.9.13"
  }
 },
 "nbformat": 4,
 "nbformat_minor": 5
}
