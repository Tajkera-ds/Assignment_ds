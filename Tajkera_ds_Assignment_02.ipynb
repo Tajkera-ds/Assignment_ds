{
 "cells": [
  {
   "cell_type": "markdown",
   "id": "ff0669ab",
   "metadata": {},
   "source": [
    "# Python conditions"
   ]
  },
  {
   "cell_type": "code",
   "execution_count": 1,
   "id": "a79c78e6",
   "metadata": {},
   "outputs": [
    {
     "name": "stdout",
     "output_type": "stream",
     "text": [
      "not square\n"
     ]
    }
   ],
   "source": [
    "L=48 #wheather a ractangle is square or not\n",
    "B=32\n",
    "if L==B:\n",
    "    print('square')\n",
    "else:\n",
    "    print('not square')"
   ]
  },
  {
   "cell_type": "code",
   "execution_count": 2,
   "id": "dde89204",
   "metadata": {},
   "outputs": [
    {
     "name": "stdout",
     "output_type": "stream",
     "text": [
      "13\n"
     ]
    }
   ],
   "source": [
    "a=8   #print greatest value\n",
    "b=4\n",
    "c=13\n",
    "if a>b:\n",
    "    if a>c:\n",
    "        Print(a)\n",
    "if b>a:\n",
    "    if b>c:\n",
    "        print(b)\n",
    "        \n",
    "else:\n",
    "    print(c)"
   ]
  },
  {
   "cell_type": "code",
   "execution_count": 3,
   "id": "5a1c2613",
   "metadata": {},
   "outputs": [
    {
     "name": "stdout",
     "output_type": "stream",
     "text": [
      "allowed for exam\n"
     ]
    }
   ],
   "source": [
    "P= 60     #wheather student allowed for exam. \n",
    "Total=80    \n",
    "A=(60%80*100) \n",
    "if A>=75:\n",
    "    print('allowed for exam')\n",
    "    \n",
    "else:\n",
    "    Print('not allowed for exam')"
   ]
  },
  {
   "cell_type": "code",
   "execution_count": 4,
   "id": "4b3aed8a",
   "metadata": {},
   "outputs": [
    {
     "name": "stdout",
     "output_type": "stream",
     "text": [
      "grade A\n"
     ]
    }
   ],
   "source": [
    "m=86   #grading system\n",
    "if m>=25 and m<=44:\n",
    "    print ('grade E')\n",
    "elif m>=45 and m<=49:\n",
    "    print ('grade D')\n",
    "    \n",
    "elif m>=50 and m<=59:\n",
    "    print ('grade C')\n",
    "elif m>=60 and m<=69:\n",
    "    print ('grade B')\n",
    "elif m>=70 and m<=89:\n",
    "    print ('grade A')\n",
    "elif m>=90:\n",
    "    print ('grade A+')\n",
    "else:\n",
    "    print ('grade F')"
   ]
  },
  {
   "cell_type": "markdown",
   "id": "b825c67c",
   "metadata": {},
   "source": [
    "# Loop Problem"
   ]
  },
  {
   "cell_type": "code",
   "execution_count": 5,
   "id": "54a580c9",
   "metadata": {},
   "outputs": [
    {
     "name": "stdout",
     "output_type": "stream",
     "text": [
      "1 2 3 4 5 6 7 \r\n",
      "1 2 3 4 5 6 \r\n",
      "1 2 3 4 5 \r\n",
      "1 2 3 4 \r\n",
      "1 2 3 \r\n",
      "1 2 \r\n"
     ]
    }
   ],
   "source": [
    "rows= 4 #drawing number pattern using for loop\n",
    "num= 7\n",
    "for i in range(num,1,-1):\n",
    "    for j in range(1,i+1):\n",
    "        print(j,end=' ')\n",
    "    print('\\r')"
   ]
  },
  {
   "cell_type": "code",
   "execution_count": 6,
   "id": "7ac1dfb0",
   "metadata": {},
   "outputs": [
    {
     "name": "stdout",
     "output_type": "stream",
     "text": [
      "1 2 3 4 5 6 7 \r\n",
      "1 2 3 4 5 6 \r\n",
      "1 2 3 4 5 \r\n",
      "1 2 3 4 \r\n",
      "1 2 3 \r\n",
      "1 2 \r\n",
      "1 \r\n"
     ]
    }
   ],
   "source": [
    "i=7 #number pattern using while loop\n",
    "while i>0:\n",
    "    j=1\n",
    "    while j<=i:\n",
    "        print(j, end=' ')\n",
    "        j+=1\n",
    "    print('\\r')\n",
    "    i-=1"
   ]
  },
  {
   "cell_type": "code",
   "execution_count": 7,
   "id": "2174db67",
   "metadata": {},
   "outputs": [
    {
     "name": "stdout",
     "output_type": "stream",
     "text": [
      "-100\n",
      "-99\n",
      "-98\n",
      "-97\n",
      "-96\n",
      "-95\n",
      "-94\n",
      "-93\n",
      "-92\n",
      "-91\n",
      "-90\n",
      "-89\n",
      "-88\n",
      "-87\n",
      "-86\n",
      "-85\n",
      "-84\n",
      "-83\n",
      "-82\n",
      "-81\n",
      "-80\n",
      "-79\n",
      "-78\n",
      "-77\n",
      "-76\n",
      "-75\n",
      "-74\n",
      "-73\n",
      "-72\n",
      "-71\n",
      "-70\n",
      "-69\n",
      "-68\n",
      "-67\n",
      "-66\n",
      "-65\n",
      "-64\n",
      "-63\n",
      "-62\n",
      "-61\n",
      "-60\n",
      "-59\n",
      "-58\n",
      "-57\n",
      "-56\n",
      "-55\n",
      "-54\n",
      "-53\n",
      "-52\n",
      "-51\n",
      "-50\n",
      "-49\n",
      "-48\n",
      "-47\n",
      "-46\n",
      "-45\n",
      "-44\n",
      "-43\n",
      "-42\n",
      "-41\n",
      "-40\n",
      "-39\n",
      "-38\n",
      "-37\n",
      "-36\n",
      "-35\n",
      "-34\n",
      "-33\n",
      "-32\n",
      "-31\n",
      "-30\n",
      "-29\n",
      "-28\n",
      "-27\n",
      "-26\n",
      "-25\n",
      "-24\n",
      "-23\n",
      "-22\n",
      "-21\n",
      "-20\n",
      "-19\n",
      "-18\n",
      "-17\n",
      "-16\n",
      "-15\n",
      "-14\n",
      "-13\n",
      "-12\n",
      "-11\n",
      "-10\n"
     ]
    }
   ],
   "source": [
    "for i in reversed(range(1,101,1)): #display numbers\n",
    "    if i==9:\n",
    "        break\n",
    "    print(-i)"
   ]
  },
  {
   "cell_type": "code",
   "execution_count": 8,
   "id": "bc7b68a3",
   "metadata": {},
   "outputs": [
    {
     "name": "stdout",
     "output_type": "stream",
     "text": [
      "sum of prime numbers: 76342\n"
     ]
    }
   ],
   "source": [
    "total=0  #sum of prime numbers \n",
    "for i in range(10, 1000):\n",
    "    for j in range(10,i):\n",
    "        if i%j==0:\n",
    "            break\n",
    "    else:\n",
    "        if i%j!=0:\n",
    "            total+=i\n",
    "print('sum of prime numbers:', total)"
   ]
  },
  {
   "cell_type": "code",
   "execution_count": 9,
   "id": "53c8cc01",
   "metadata": {},
   "outputs": [
    {
     "name": "stdout",
     "output_type": "stream",
     "text": [
      "the factorial of num is: 5040\n"
     ]
    }
   ],
   "source": [
    "num=7    #to find the factorial of a number\n",
    "factorial=1\n",
    "if num<0:\n",
    "    print('no factorial for negative number')\n",
    "elif num==0:\n",
    "    print('factorial of 0 is 1')\n",
    "else:\n",
    "    for i in range(1,num+1):\n",
    "        factorial=factorial*i\n",
    "print('the factorial of num is:',factorial)"
   ]
  },
  {
   "cell_type": "code",
   "execution_count": 10,
   "id": "934e21c8",
   "metadata": {},
   "outputs": [
    {
     "name": "stdout",
     "output_type": "stream",
     "text": [
      "reversed number:1704265972\n"
     ]
    }
   ],
   "source": [
    "i =27956240710 #reverse a given integer\n",
    "reversed_i=0\n",
    "while i!=0:\n",
    "    j= i%10                           \n",
    "    reversed_i= reversed_i*10+j      \n",
    "    i//=10    \n",
    "print('reversed number:'+str(reversed_i))"
   ]
  },
  {
   "cell_type": "code",
   "execution_count": 11,
   "id": "f8e3d751",
   "metadata": {},
   "outputs": [
    {
     "name": "stdout",
     "output_type": "stream",
     "text": [
      "# \r\n",
      "# # \r\n",
      "# # # \r\n",
      "# # # # \r\n",
      "# # # \r\n",
      "# # \r\n",
      "# \r\n",
      "\r\n"
     ]
    }
   ],
   "source": [
    "rows=4       #pattern using for loop\n",
    "for i in range(0,rows):\n",
    "    for j in range(0,i+1):\n",
    "        print('#', end=' ')\n",
    "    print('\\r')\n",
    "\n",
    "for i in range(rows,0,-1):\n",
    "    for j in range(0,i-1):\n",
    "        print('#', end=' ')\n",
    "    print('\\r')"
   ]
  },
  {
   "cell_type": "code",
   "execution_count": 12,
   "id": "ca25c90f",
   "metadata": {},
   "outputs": [
    {
     "name": "stdout",
     "output_type": "stream",
     "text": [
      "#\n",
      "##\n",
      "###\n",
      "####\n",
      "###\n",
      "##\n",
      "#\n"
     ]
    }
   ],
   "source": [
    "rows=4 #pattern using while loop\n",
    "i=1\n",
    "while i<rows:\n",
    "    print('#'*i)\n",
    "    i+=1\n",
    "i=rows\n",
    "while i>=1:\n",
    "    print('#'*i)\n",
    "    i-=1"
   ]
  },
  {
   "cell_type": "code",
   "execution_count": 13,
   "id": "725edec0",
   "metadata": {},
   "outputs": [
    {
     "name": "stdout",
     "output_type": "stream",
     "text": [
      "enter any number:15\n",
      "0 1 1 2 3 5 8 13 21 34 55 89 144 233 377 "
     ]
    }
   ],
   "source": [
    "num=int(input('enter any number:')) #finding Fibonacci sequence using for loop\n",
    "n1,n2=0,1\n",
    "sum=0\n",
    "if num<=0:\n",
    "    print('please enter positive integer')\n",
    "else:\n",
    "    for i in range(0,num):\n",
    "        print(sum,end=' ')\n",
    "        n1=n2\n",
    "        n2=sum\n",
    "        sum=n1+n2"
   ]
  },
  {
   "cell_type": "code",
   "execution_count": 14,
   "id": "695f4d4b",
   "metadata": {},
   "outputs": [
    {
     "name": "stdout",
     "output_type": "stream",
     "text": [
      "enter any number:15\n",
      "Fibonacci sequence:\n",
      "0\n",
      "1\n",
      "1\n",
      "2\n",
      "3\n",
      "5\n",
      "8\n",
      "13\n",
      "21\n",
      "34\n",
      "55\n",
      "89\n",
      "144\n",
      "233\n"
     ]
    }
   ],
   "source": [
    "num=int(input('enter any number:')) #finding Fibonacci sequence using while loop\n",
    "n1,n2=0,1\n",
    "sum=0\n",
    "count=1\n",
    "if num<=0:\n",
    "    print('please enter positive integer')\n",
    "else:\n",
    "    print('Fibonacci sequence:')\n",
    "    while(count<num):\n",
    "        print(n1)\n",
    "        sum=n1+n2\n",
    "        n1=n2\n",
    "        n2=sum\n",
    "        count+=1"
   ]
  },
  {
   "cell_type": "markdown",
   "id": "f4878d2f",
   "metadata": {},
   "source": [
    "# Python inbuilt Data Structure"
   ]
  },
  {
   "cell_type": "code",
   "execution_count": 15,
   "id": "7477e86f",
   "metadata": {},
   "outputs": [],
   "source": [
    "Li=[1,3,5,[2,3],'True']"
   ]
  },
  {
   "cell_type": "code",
   "execution_count": 16,
   "id": "e38ff8d2",
   "metadata": {},
   "outputs": [],
   "source": [
    "Li[3]= [3,3]"
   ]
  },
  {
   "cell_type": "code",
   "execution_count": 17,
   "id": "344f9e36",
   "metadata": {},
   "outputs": [],
   "source": [
    "Li[4]= 'False'"
   ]
  },
  {
   "cell_type": "code",
   "execution_count": 18,
   "id": "007f065f",
   "metadata": {},
   "outputs": [
    {
     "data": {
      "text/plain": [
       "[1, 3, 5, [3, 3], 'False']"
      ]
     },
     "execution_count": 18,
     "metadata": {},
     "output_type": "execute_result"
    }
   ],
   "source": [
    "Li     #remove, add and replace in a list"
   ]
  },
  {
   "cell_type": "code",
   "execution_count": 19,
   "id": "8086c471",
   "metadata": {},
   "outputs": [],
   "source": [
    "S1={1,4,6,8}\n",
    "S2={'True', 1,2,10}"
   ]
  },
  {
   "cell_type": "code",
   "execution_count": 20,
   "id": "5971d5b8",
   "metadata": {},
   "outputs": [
    {
     "data": {
      "text/plain": [
       "{1}"
      ]
     },
     "execution_count": 20,
     "metadata": {},
     "output_type": "execute_result"
    }
   ],
   "source": [
    "S1.intersection(S2)  #intersection of set"
   ]
  },
  {
   "cell_type": "code",
   "execution_count": 21,
   "id": "520ff60c",
   "metadata": {},
   "outputs": [
    {
     "name": "stdout",
     "output_type": "stream",
     "text": [
      "original list:[1, 9, 3, 4, 5, 200, 54]\n",
      "list after removing dulicates:[1, 9, 3, 4, 5, 200, 54]\n"
     ]
    }
   ],
   "source": [
    "User_input= [1,9,3,4,5,200,54] #removing duplicate value from list\n",
    "print('original list:'+str(User_input))\n",
    "Set= list(set(User_input))\n",
    "print('list after removing dulicates:'+str(User_input))"
   ]
  },
  {
   "cell_type": "code",
   "execution_count": 22,
   "id": "f3e17cbe",
   "metadata": {},
   "outputs": [],
   "source": [
    "s1=set([1, 9, 3, 4, 5, 200, 54])"
   ]
  },
  {
   "cell_type": "code",
   "execution_count": 23,
   "id": "1dfc6b31",
   "metadata": {},
   "outputs": [
    {
     "data": {
      "text/plain": [
       "{1, 3, 4, 5, 9, 54, 200}"
      ]
     },
     "execution_count": 23,
     "metadata": {},
     "output_type": "execute_result"
    }
   ],
   "source": [
    "s1"
   ]
  },
  {
   "cell_type": "code",
   "execution_count": 24,
   "id": "59e6321c",
   "metadata": {},
   "outputs": [
    {
     "name": "stdout",
     "output_type": "stream",
     "text": [
      "Maximum value of set:\n",
      "200\n"
     ]
    }
   ],
   "source": [
    "print('Maximum value of set:') #finding maximum value in set\n",
    "print(max(s1))"
   ]
  },
  {
   "cell_type": "code",
   "execution_count": 25,
   "id": "5135761e",
   "metadata": {},
   "outputs": [],
   "source": [
    "Dict = {                       #rename a key\n",
    "    'name': 'Shakil',\n",
    "    'age':'27',\n",
    "    'city':'Berlin',\n",
    "    'Country':'Germany'\n",
    "}"
   ]
  },
  {
   "cell_type": "code",
   "execution_count": 26,
   "id": "fb63c285",
   "metadata": {},
   "outputs": [
    {
     "name": "stdout",
     "output_type": "stream",
     "text": [
      "{'name': 'Shakil', 'age': '27', 'city': 'Berlin', 'region': 'Germany'}\n"
     ]
    }
   ],
   "source": [
    "Dict['region']=Dict.pop('Country')\n",
    "print(Dict)"
   ]
  },
  {
   "cell_type": "code",
   "execution_count": 27,
   "id": "235806fe",
   "metadata": {},
   "outputs": [],
   "source": [
    "num=[10,100,300]"
   ]
  },
  {
   "cell_type": "code",
   "execution_count": 28,
   "id": "9c1cc606",
   "metadata": {},
   "outputs": [],
   "source": [
    "import pandas as pd"
   ]
  },
  {
   "cell_type": "code",
   "execution_count": 29,
   "id": "41badea3",
   "metadata": {},
   "outputs": [
    {
     "data": {
      "text/html": [
       "<div>\n",
       "<style scoped>\n",
       "    .dataframe tbody tr th:only-of-type {\n",
       "        vertical-align: middle;\n",
       "    }\n",
       "\n",
       "    .dataframe tbody tr th {\n",
       "        vertical-align: top;\n",
       "    }\n",
       "\n",
       "    .dataframe thead th {\n",
       "        text-align: right;\n",
       "    }\n",
       "</style>\n",
       "<table border=\"1\" class=\"dataframe\">\n",
       "  <thead>\n",
       "    <tr style=\"text-align: right;\">\n",
       "      <th></th>\n",
       "      <th>num</th>\n",
       "    </tr>\n",
       "  </thead>\n",
       "  <tbody>\n",
       "    <tr>\n",
       "      <th>0</th>\n",
       "      <td>10</td>\n",
       "    </tr>\n",
       "    <tr>\n",
       "      <th>1</th>\n",
       "      <td>100</td>\n",
       "    </tr>\n",
       "    <tr>\n",
       "      <th>2</th>\n",
       "      <td>300</td>\n",
       "    </tr>\n",
       "  </tbody>\n",
       "</table>\n",
       "</div>"
      ],
      "text/plain": [
       "   num\n",
       "0   10\n",
       "1  100\n",
       "2  300"
      ]
     },
     "execution_count": 29,
     "metadata": {},
     "output_type": "execute_result"
    }
   ],
   "source": [
    "pd.DataFrame([10,100,300], columns=['num'])  #Data frame from list."
   ]
  },
  {
   "cell_type": "code",
   "execution_count": 30,
   "id": "32418969",
   "metadata": {},
   "outputs": [],
   "source": [
    "Dict = {\n",
    "    'name': 'Shakil',\n",
    "    'age':'27',\n",
    "    'city':'Berlin',\n",
    "    'Country':'Germany'\n",
    "}"
   ]
  },
  {
   "cell_type": "code",
   "execution_count": 31,
   "id": "6cdb7b2b",
   "metadata": {},
   "outputs": [],
   "source": [
    "Dict['age']=28"
   ]
  },
  {
   "cell_type": "code",
   "execution_count": 32,
   "id": "f4ed01ce",
   "metadata": {},
   "outputs": [
    {
     "data": {
      "text/plain": [
       "{'name': 'Shakil', 'age': 28, 'city': 'Berlin', 'Country': 'Germany'}"
      ]
     },
     "execution_count": 32,
     "metadata": {},
     "output_type": "execute_result"
    }
   ],
   "source": [
    "Dict    #change value of a key"
   ]
  },
  {
   "cell_type": "code",
   "execution_count": null,
   "id": "ff35f5b7",
   "metadata": {},
   "outputs": [],
   "source": []
  }
 ],
 "metadata": {
  "kernelspec": {
   "display_name": "Python 3 (ipykernel)",
   "language": "python",
   "name": "python3"
  },
  "language_info": {
   "codemirror_mode": {
    "name": "ipython",
    "version": 3
   },
   "file_extension": ".py",
   "mimetype": "text/x-python",
   "name": "python",
   "nbconvert_exporter": "python",
   "pygments_lexer": "ipython3",
   "version": "3.10.9"
  }
 },
 "nbformat": 4,
 "nbformat_minor": 5
}
